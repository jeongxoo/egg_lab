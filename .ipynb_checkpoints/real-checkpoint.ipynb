{
 "cells": [
  {
   "cell_type": "code",
   "execution_count": 1,
   "id": "ac107e8b",
   "metadata": {},
   "outputs": [],
   "source": [
    "import pyspark\n",
    "import pandas as pd\n",
    "import matplotlib.pyplot as plt\n",
    "import os\n",
    "from datetime import datetime, timedelta\n",
    "import numpy as np\n",
    "from scipy.interpolate import interp1d"
   ]
  },
  {
   "cell_type": "code",
   "execution_count": 2,
   "id": "490adb81",
   "metadata": {},
   "outputs": [],
   "source": [
    "def set_pyspark():\n",
    "    myConf = pyspark.SparkConf()\n",
    "    spark = pyspark.sql.SparkSession.builder\\\n",
    "        .master(\"local\")\\\n",
    "        .appName(\"myApp\")\\\n",
    "        .config(conf = myConf)\\\n",
    "        .getOrCreate()\n",
    "    return spark"
   ]
  },
  {
   "cell_type": "markdown",
   "id": "95628267",
   "metadata": {},
   "source": [
    "## 데이터 불러오기 & 전처리"
   ]
  },
  {
   "cell_type": "code",
   "execution_count": 27,
   "id": "2d282bec",
   "metadata": {},
   "outputs": [],
   "source": [
    "def data_load(file_name, date, label, spark):\n",
    "    data_df = pd.read_excel(os.path.join(\"data\", file_name), names=[\"data\"])\n",
    "    data_list = list(data_df[\"data\"])\n",
    "    \n",
    "    temp = []\n",
    "    data_temp = []\n",
    "    for i in range(len(data_list)):\n",
    "        temp.append(data_list[i])\n",
    "        if i % 2 != 0:\n",
    "            data_temp.append(temp)\n",
    "            temp = []\n",
    "    \n",
    "    dataRDD = spark.sparkContext.parallelize(data_temp)\n",
    "    \n",
    "    changeData = dataRDD.map(lambda x: (x[0].split(), x[1]))\\\n",
    "                    .map(lambda x: (date + \" \" + x[0][2], x[1]))\\\n",
    "                    .map(lambda x: (x[0].replace(\" \", \" 0\"), x[1]) if len(x[0]) == 15 else (x[0], x[1]))\\\n",
    "                    .sortByKey(lambda x: x[0])\n",
    "    \n",
    "    time_stamp = changeData.map(lambda x: x[0][-5:]).collect()\n",
    "    data_count = changeData.map(lambda x: x[1]).collect()\n",
    "    \n",
    "    return time_stamp, data_count, changeData"
   ]
  },
  {
   "cell_type": "markdown",
   "id": "f09b94f5",
   "metadata": {},
   "source": [
    "## 선형보간전 데이터 전처리"
   ]
  },
  {
   "cell_type": "code",
   "execution_count": 28,
   "id": "584b4a61",
   "metadata": {},
   "outputs": [],
   "source": [
    "def before_linear(data, date, spark):\n",
    "    _data = data.collect()\n",
    "    _f, _e = _data[0][1], _data[-1][1]\n",
    "    _data = dict(_data)\n",
    "    \n",
    "    start_time = date + \" 00:00\"\n",
    "    end_time = date + \" 23:59\"\n",
    "    \n",
    "    _data[start_time] = _f\n",
    "    _data[end_time] = _e\n",
    "\n",
    "    _data = sorted(_data.items(), key = lambda x: x[0])\n",
    "    return _data"
   ]
  },
  {
   "cell_type": "markdown",
   "id": "c529420a",
   "metadata": {},
   "source": [
    "## 선형 보간 함수"
   ]
  },
  {
   "cell_type": "code",
   "execution_count": 11,
   "id": "f9bb33c0",
   "metadata": {},
   "outputs": [],
   "source": [
    "def isitRight(step_data):\n",
    "    step_data = sorted(step_data)\n",
    "    for i in range(len(step_data) - 1):\n",
    "        now = datetime.strptime(step_data[i][0], \"%Y-%m-%d %H:%M\")\n",
    "        nxt = datetime.strptime(step_data[i+1][0], \"%Y-%m-%d %H:%M\")\n",
    "\n",
    "        now_value = step_data[i][1]\n",
    "        nxt_value = step_data[i+1][1]\n",
    "\n",
    "        new_t = (nxt - now) / 2\n",
    "        # nn분 30초 나오는 애들은 30초를 버리고\n",
    "        # nn분만 살려서 가는 형태로 갑시다\n",
    "        if new_t < timedelta(minutes = 1):\n",
    "            continue\n",
    "        else:\n",
    "            if new_t % timedelta(seconds = 60) != timedelta(seconds = 0):\n",
    "                new_t -= timedelta(seconds = 30)\n",
    "\n",
    "            new_value = (now_value + nxt_value) / 2\n",
    "            new_t = now + new_t\n",
    "            \n",
    "            new_t.strftime(\"%Y-%m-%d %H:%M\")\n",
    "            new_t = str(new_t)\n",
    "            new_t = new_t[:-3]\n",
    "            step_data.append((new_t, new_value))\n",
    "            \n",
    "    return step_data"
   ]
  },
  {
   "cell_type": "code",
   "execution_count": 12,
   "id": "a87eb80d",
   "metadata": {},
   "outputs": [],
   "source": [
    "def yesItIsRight(data):\n",
    "    while len(data) < 1440:\n",
    "        data = isitRight(data)\n",
    "    data = sorted(data, key = lambda x: x[0])\n",
    "    return data"
   ]
  },
  {
   "cell_type": "markdown",
   "id": "570dfcec",
   "metadata": {},
   "source": [
    "## 그래프 그리기 함수"
   ]
  },
  {
   "cell_type": "code",
   "execution_count": 14,
   "id": "51ee251e",
   "metadata": {},
   "outputs": [],
   "source": [
    "def draw_graph(data, label, points):\n",
    "    _x = spark.sparkContext.parallelize(data).map(lambda x: x[0]).collect()\n",
    "    _y = spark.sparkContext.parallelize(data).map(lambda x: x[1]).collect()\n",
    "    \n",
    "    plt.plot(_x[:], _y[:], label = label)\n",
    "    plt.rcParams['figure.figsize'] = (20, 4)\n",
    "    plt.rcParams['font.size'] = 10\n",
    "    plt.legend()"
   ]
  },
  {
   "cell_type": "markdown",
   "id": "8def2030",
   "metadata": {},
   "source": [
    "## 전체 기능 함수"
   ]
  },
  {
   "cell_type": "code",
   "execution_count": 21,
   "id": "b9be9729",
   "metadata": {},
   "outputs": [],
   "source": [
    "date = \"2021-12-06\"\n",
    "h = \"hearts\"\n",
    "s = \"steps\"\n",
    "file_name = \"211206_steps.xlsx\""
   ]
  },
  {
   "cell_type": "code",
   "execution_count": 29,
   "id": "57b3d030",
   "metadata": {},
   "outputs": [],
   "source": [
    "def load_and_linear(date, file_name, label, spark):\n",
    "    _t, _d, _a = data_load(file_name, date, label, spark)\n",
    "    _dlinear = before_linear(_a, date, spark)\n",
    "    _all = yesItIsRight(_dlinear)\n",
    "    return _all"
   ]
  },
  {
   "cell_type": "code",
   "execution_count": 5,
   "id": "45bbd793",
   "metadata": {},
   "outputs": [
    {
     "name": "stderr",
     "output_type": "stream",
     "text": [
      "WARNING: An illegal reflective access operation has occurred\n",
      "WARNING: Illegal reflective access by org.apache.spark.unsafe.Platform (file:/usr/local/lib/python3.9/site-packages/pyspark/jars/spark-unsafe_2.12-3.1.2.jar) to constructor java.nio.DirectByteBuffer(long,int)\n",
      "WARNING: Please consider reporting this to the maintainers of org.apache.spark.unsafe.Platform\n",
      "WARNING: Use --illegal-access=warn to enable warnings of further illegal reflective access operations\n",
      "WARNING: All illegal access operations will be denied in a future release\n",
      "22/01/19 00:40:00 WARN NativeCodeLoader: Unable to load native-hadoop library for your platform... using builtin-java classes where applicable\n",
      "Using Spark's default log4j profile: org/apache/spark/log4j-defaults.properties\n",
      "Setting default log level to \"WARN\".\n",
      "To adjust logging level use sc.setLogLevel(newLevel). For SparkR, use setLogLevel(newLevel).\n",
      "22/01/19 00:40:01 WARN Utils: Service 'SparkUI' could not bind on port 4040. Attempting port 4041.\n"
     ]
    }
   ],
   "source": [
    "spark = set_pyspark()"
   ]
  },
  {
   "cell_type": "code",
   "execution_count": 31,
   "id": "5b9ff8eb",
   "metadata": {},
   "outputs": [
    {
     "name": "stderr",
     "output_type": "stream",
     "text": [
      "/usr/local/lib/python3.9/site-packages/pyspark/python/lib/pyspark.zip/pyspark/shuffle.py:60: UserWarning: Please install psutil to have better support with spilling\n"
     ]
    }
   ],
   "source": [
    "all_data = load_and_linear(date, file_name, s, spark)"
   ]
  },
  {
   "cell_type": "code",
   "execution_count": 32,
   "id": "93dd4e02",
   "metadata": {},
   "outputs": [
    {
     "data": {
      "image/png": "[encoded data removed]",
      "text/plain": [
       "<Figure size 1440x288 with 1 Axes>"
      ]
     },
     "metadata": {
      "needs_background": "light"
     },
     "output_type": "display_data"
    }
   ],
   "source": [
    "draw_graph(all_data, s, \"1\")"
   ]
  },
  {
   "cell_type": "markdown",
   "id": "a643af33",
   "metadata": {},
   "source": [
    "## 데이터 저장"
   ]
  },
  {
   "cell_type": "code",
   "execution_count": 33,
   "id": "0c91e54b",
   "metadata": {},
   "outputs": [],
   "source": [
    "def save_data(data, file_name):\n",
    "    all_df = pd.DataFrame(data)\n",
    "    all_df.to_csv(os.path.join(\"data\", file_name))"
   ]
  },
  {
   "cell_type": "code",
   "execution_count": 35,
   "id": "b0f937e4",
   "metadata": {},
   "outputs": [],
   "source": [
    "save_file_name = \"all_day_\" + file_name[:-4] + \"csv\""
   ]
  },
  {
   "cell_type": "code",
   "execution_count": 37,
   "id": "52911a4f",
   "metadata": {},
   "outputs": [],
   "source": [
    "save_data(all_data, save_file_name)"
   ]
  },
  {
   "cell_type": "code",
   "execution_count": null,
   "id": "f0eab5eb",
   "metadata": {},
   "outputs": [],
   "source": []
  }
 ],
 "metadata": {
  "kernelspec": {
   "display_name": "Python 3 (ipykernel)",
   "language": "python",
   "name": "python3"
  },
  "language_info": {
   "codemirror_mode": {
    "name": "ipython",
    "version": 3
   },
   "file_extension": ".py",
   "mimetype": "text/x-python",
   "name": "python",
   "nbconvert_exporter": "python",
   "pygments_lexer": "ipython3",
   "version": "3.9.7"
  }
 },
 "nbformat": 4,
 "nbformat_minor": 5
}
